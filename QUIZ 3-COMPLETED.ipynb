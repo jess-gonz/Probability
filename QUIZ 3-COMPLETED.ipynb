{
 "cells": [
  {
   "cell_type": "markdown",
   "metadata": {},
   "source": [
    "<font color=\"red\"> <H1> QUIZ 3 </H1> </font>\n",
    "<H2> Calculator of linear regression </H2>\n",
    "\n",
    "<H2> Members of the team:</H2> <br/>\n",
    "-Cruz Santiago Cesar Alejandro <br/>\n",
    "-Perez Gonzalez Jessica Sarahi <br/>\n",
    "-Roman Olivares Mario Gudalupe <br/>\n",
    "-Salas Colis Carlos Enrique <br/>"
   ]
  },
  {
   "cell_type": "code",
   "execution_count": 2,
   "metadata": {},
   "outputs": [
    {
     "name": "stdout",
     "output_type": "stream",
     "text": [
      "How much data do you want to introduce?  2\n",
      "\n",
      "\n",
      "Introduce X datas:10\n",
      "Introduce X datas:10\n",
      "\n",
      "\n",
      "Introduce Y datas:10\n",
      "Introduce Y datas:10\n",
      "\n",
      " 0.0 + 1.0 *x   -This is your equation for linear regression\n",
      "\n",
      " If you want to calculate your regression, continue typing Y in the next question, if not type a N\n",
      "Calculate the regression?Y\n",
      "\n",
      "\n",
      "Introduce the value of your X to calculate your linear regression:10\n",
      "\n",
      " This is your calculated linear regression :)\n",
      "10.0 + e\n"
     ]
    }
   ],
   "source": [
    "values = int(input(\"How much data do you want to introduce?  \"))\n",
    "print(\"\\n\")\n",
    "x = []\n",
    "y = []\n",
    "totaly = 0\n",
    "totalx = 0\n",
    "x2 = 0\n",
    "mult = 0\n",
    "b1 = 0\n",
    "b0 = 0\n",
    "var = 0\n",
    "lnreg = 0\n",
    "for x in range(0,values):\n",
    "    x = int(input(\"Introduce X datas:\"))\n",
    "print(\"\\n\")   \n",
    "for y in range(0,values):\n",
    "    y = int(input(\"Introduce Y datas:\"))\n",
    "x2  += x ** 2 #Sumatory of x**2\n",
    "mult += x*y #Sumatory of X*Y\n",
    "totalx += x #Sumatory of x\n",
    "totaly += y #Sumatory of Y\n",
    "    \n",
    "b1 = ((values*mult)-(totalx*totaly))/((values*x2) - (totalx**2)) \n",
    "b0 = ((totaly-(b1*totalx))/values)\n",
    "print(\"\\n\",b0,\"+\",b1,\"*x\",\"  -This is your equation for linear regression\")\n",
    "\n",
    "print(\"\\n\",\"If you want to calculate your regression, continue typing Y in the next question, if not type a N\")\n",
    "select=input(\"Calculate the regression?\")\n",
    "if select == \"Y\":\n",
    "                print(\"\\n\")\n",
    "                var = int(input(\"Introduce the value of your X to calculate your linear regression:\"))\n",
    "                lnreg = b0+(b1*var)\n",
    "\n",
    "                print(\"\\n\",\"This is your calculated linear regression :)\")\n",
    "                print(lnreg,\"+ e\")\n",
    "else:\n",
    "    print(\"\\n\",\"Perfect,no problem,thanks for use this program\")"
   ]
  },
  {
   "cell_type": "code",
   "execution_count": null,
   "metadata": {},
   "outputs": [],
   "source": []
  }
 ],
 "metadata": {
  "kernelspec": {
   "display_name": "Python 3",
   "language": "python",
   "name": "python3"
  },
  "language_info": {
   "codemirror_mode": {
    "name": "ipython",
    "version": 3
   },
   "file_extension": ".py",
   "mimetype": "text/x-python",
   "name": "python",
   "nbconvert_exporter": "python",
   "pygments_lexer": "ipython3",
   "version": "3.7.4"
  }
 },
 "nbformat": 4,
 "nbformat_minor": 2
}
